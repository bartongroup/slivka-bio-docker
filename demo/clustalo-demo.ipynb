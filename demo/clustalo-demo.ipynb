{
 "cells": [
  {
   "cell_type": "markdown",
   "id": "9aab9c72-916c-4799-be36-08022885cb0b",
   "metadata": {},
   "source": [
    "# Slivka Client Demo\n",
    "\n",
    "## Introduction\n",
    "\n",
    "This notebook demonstrates how to use the Slivka Python client to interact with a Slivka server. You'll learn how to install the client, query available services, submit a job, and retrieve the results.\n",
    "\n",
    "### Install Slivka Client"
   ]
  },
  {
   "cell_type": "code",
   "execution_count": null,
   "id": "aa28414f",
   "metadata": {},
   "outputs": [],
   "source": [
    "%pip install slivka-client==1.2.1b1\n"
   ]
  },
  {
   "cell_type": "markdown",
   "id": "2f35cb6e-a4a7-495f-97ba-8cb4f88d6623",
   "metadata": {},
   "source": [
    "### Configure Slivka Server URL"
   ]
  },
  {
   "cell_type": "code",
   "execution_count": null,
   "id": "0643726a-7eb6-4641-a091-20d7828267b9",
   "metadata": {},
   "outputs": [],
   "source": [
    "# Set the Slivka server URL\n",
    "local_slivka_url = 'http://slivka-bio:8000/'  # For Slivka running in Docker\n",
    "dundee_slivka_url = 'https://www.compbio.dundee.ac.uk/slivka/'\n",
    "\n",
    "# Set to True to use the local Slivka server\n",
    "use_local_slivka = True\n",
    "\n",
    "slivka_server_url = local_slivka_url if use_local_slivka else dundee_slivka_url\n",
    "print(f\"Using Slivka server at: {slivka_server_url}\")\n"
   ]
  },
  {
   "cell_type": "markdown",
   "id": "5de8e575-d3ed-4306-94a4-cbf09285d74b",
   "metadata": {},
   "source": [
    "### Initialize Slivka Client"
   ]
  },
  {
   "cell_type": "code",
   "execution_count": null,
   "id": "79922011-0e2a-483d-be53-881827036122",
   "metadata": {},
   "outputs": [],
   "source": [
    "from slivka_client import SlivkaClient\n",
    "\n",
    "client = SlivkaClient(slivka_server_url)\n",
    "print(f\"Connected to Slivka server at: {client.url}\")\n"
   ]
  },
  {
   "cell_type": "markdown",
   "id": "d1b46ecf-09ff-45f6-b857-34bacd97ec18",
   "metadata": {},
   "source": [
    "### Query Available Services"
   ]
  },
  {
   "cell_type": "code",
   "execution_count": null,
   "id": "c51d0f14-ca7a-41a7-aab5-68318a8da40b",
   "metadata": {},
   "outputs": [],
   "source": [
    "# List available services\n",
    "for service in client.services:\n",
    "    print(f\"Service name: {service.name}, ID: {service.id}\")\n"
   ]
  },
  {
   "cell_type": "markdown",
   "id": "dc87fbf1-9397-4b60-bbeb-54fa47ef490c",
   "metadata": {},
   "source": [
    "### Select a Service (ClustalO)\n"
   ]
  },
  {
   "cell_type": "code",
   "execution_count": null,
   "id": "141bb7c3-a4b9-450e-8d40-209c8a88aba0",
   "metadata": {},
   "outputs": [],
   "source": [
    "service = client['clustalo']\n",
    "print(f\"Selected service: {service.name} (ID: {service.id})\")\n"
   ]
  },
  {
   "cell_type": "markdown",
   "id": "719dab59",
   "metadata": {},
   "source": [
    "### Submit a Job to Align Sequences with ClustalO\n"
   ]
  },
  {
   "cell_type": "code",
   "execution_count": null,
   "id": "ef8e8dc4-c106-487e-ae05-8736a140732f",
   "metadata": {},
   "outputs": [],
   "source": [
    "# Define parameters for the job\n",
    "data = {\n",
    "    'iterations': 1,\n",
    "    'max-guidetree-iterations': 1,\n",
    "    'max-hmm-iterations': 1,\n",
    "}\n",
    "\n",
    "# Specify the input file path\n",
    "input_file_path = 'data/fam83b-pandda-chains-for-align-test.fa'\n",
    "\n",
    "# Submit the job with the input file\n",
    "with open(input_file_path, 'rb') as file_object:\n",
    "    files = {'input': file_object}\n",
    "    job = service.submit_job(data=data, files=files)\n",
    "    print(f\"Job submitted with ID: {job.id}\")\n"
   ]
  },
  {
   "cell_type": "markdown",
   "id": "145278ca-9af1-46a7-9a27-81c9c34150bb",
   "metadata": {},
   "source": [
    "### Monitor Job Status\n"
   ]
  },
  {
   "cell_type": "code",
   "execution_count": null,
   "id": "e1065be7-bcb7-4341-a999-443eadd898ad",
   "metadata": {},
   "outputs": [],
   "source": [
    "import time\n",
    "\n",
    "# Poll the job status until it is completed\n",
    "while job.status not in ('COMPLETED', 'FAILED'):\n",
    "    print(f\"Job status: {job.status}\")\n",
    "    time.sleep(3)\n",
    "\n",
    "print(f\"Job completed with status: {job.status}\")\n"
   ]
  },
  {
   "cell_type": "markdown",
   "id": "29687003-011d-42c9-ad37-412290e0f2b8",
   "metadata": {},
   "source": [
    "### Retrieve Job Results\n"
   ]
  },
  {
   "cell_type": "code",
   "execution_count": null,
   "id": "64c1cd23-f035-4426-b40e-4b4138d2305b",
   "metadata": {},
   "outputs": [],
   "source": [
    "import os\n",
    "\n",
    "# Download each file in the job results\n",
    "for file in job.files:\n",
    "    download_path = f\"./downloads/{file.id}\"\n",
    "    os.makedirs(os.path.dirname(download_path), exist_ok=True)\n",
    "    file.dump(download_path)\n",
    "    print(f\"File {file.id} downloaded to {download_path}\")"
   ]
  }
 ],
 "metadata": {
  "kernelspec": {
   "display_name": "Python 3 (ipykernel)",
   "language": "python",
   "name": "python3"
  }
 },
 "nbformat": 4,
 "nbformat_minor": 5
}
