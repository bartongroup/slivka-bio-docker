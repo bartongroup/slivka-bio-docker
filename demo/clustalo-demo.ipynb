{
 "cells": [
  {
   "cell_type": "markdown",
   "id": "9aab9c72-916c-4799-be36-08022885cb0b",
   "metadata": {},
   "source": [
    "# Slivka Client Demo\n",
    "\n",
    "## Introduction\n",
    "\n",
    "This notebook demonstrates how to use the Slivka Python client to interact with a Slivka server. You'll learn how to install the client, query available services, submit a job, and retrieve the results.\n",
    "\n",
    "### Install Slivka Client"
   ]
  },
  {
   "cell_type": "code",
   "execution_count": 1,
   "id": "aa28414f",
   "metadata": {},
   "outputs": [
    {
     "name": "stdout",
     "output_type": "stream",
     "text": [
      "Requirement already satisfied: requests in /opt/conda/lib/python3.11/site-packages (2.31.0)\n",
      "Requirement already satisfied: charset-normalizer<4,>=2 in /opt/conda/lib/python3.11/site-packages (from requests) (3.3.0)\n",
      "Requirement already satisfied: idna<4,>=2.5 in /opt/conda/lib/python3.11/site-packages (from requests) (3.4)\n",
      "Requirement already satisfied: urllib3<3,>=1.21.1 in /opt/conda/lib/python3.11/site-packages (from requests) (2.0.7)\n",
      "Requirement already satisfied: certifi>=2017.4.17 in /opt/conda/lib/python3.11/site-packages (from requests) (2023.7.22)\n",
      "Note: you may need to restart the kernel to use updated packages.\n",
      "Processing ./slivka-python-client/slivka-python-client-dev\n",
      "  Preparing metadata (setup.py) ... \u001b[?25ldone\n",
      "\u001b[?25hRequirement already satisfied: attrs>=19.0 in /opt/conda/lib/python3.11/site-packages (from slivka-client==1.2.1b1) (23.1.0)\n",
      "Requirement already satisfied: click>=7.1.2 in /opt/conda/lib/python3.11/site-packages (from slivka-client==1.2.1b1) (8.1.7)\n",
      "Requirement already satisfied: requests>=2.13.0 in /opt/conda/lib/python3.11/site-packages (from slivka-client==1.2.1b1) (2.31.0)\n",
      "Requirement already satisfied: charset-normalizer<4,>=2 in /opt/conda/lib/python3.11/site-packages (from requests>=2.13.0->slivka-client==1.2.1b1) (3.3.0)\n",
      "Requirement already satisfied: idna<4,>=2.5 in /opt/conda/lib/python3.11/site-packages (from requests>=2.13.0->slivka-client==1.2.1b1) (3.4)\n",
      "Requirement already satisfied: urllib3<3,>=1.21.1 in /opt/conda/lib/python3.11/site-packages (from requests>=2.13.0->slivka-client==1.2.1b1) (2.0.7)\n",
      "Requirement already satisfied: certifi>=2017.4.17 in /opt/conda/lib/python3.11/site-packages (from requests>=2.13.0->slivka-client==1.2.1b1) (2023.7.22)\n",
      "Building wheels for collected packages: slivka-client\n",
      "  Building wheel for slivka-client (setup.py) ... \u001b[?25ldone\n",
      "\u001b[?25h  Created wheel for slivka-client: filename=slivka_client-1.2.1b1-py3-none-any.whl size=13422 sha256=7dabeb3381cc7f55603abe8c35a860b40ea2804f7c6a72fafa71affd49664365\n",
      "  Stored in directory: /home/jovyan/.cache/pip/wheels/e5/d8/11/60dd3f9ca2b38d63c070cb2fd43d9ae68892a615e0dc32375d\n",
      "Successfully built slivka-client\n",
      "Installing collected packages: slivka-client\n",
      "  Attempting uninstall: slivka-client\n",
      "    Found existing installation: slivka-client 1.2.1b1\n",
      "    Uninstalling slivka-client-1.2.1b1:\n",
      "      Successfully uninstalled slivka-client-1.2.1b1\n",
      "Successfully installed slivka-client-1.2.1b1\n",
      "Note: you may need to restart the kernel to use updated packages.\n"
     ]
    }
   ],
   "source": [
    "%pip install requests\n",
    "\n",
    "import requests\n",
    "import zipfile\n",
    "import io\n",
    "\n",
    "# Download the repository as a zip file\n",
    "url = \"https://github.com/bartongroup/slivka-python-client/archive/refs/heads/dev.zip\"\n",
    "response = requests.get(url)\n",
    "if response.status_code == 200:\n",
    "\tzip_file = zipfile.ZipFile(io.BytesIO(response.content))\n",
    "\tzip_file.extractall(\"slivka-python-client\")\n",
    "\t%pip install ./slivka-python-client/slivka-python-client-dev\n",
    "else:\n",
    "\tprint(\"Failed to download the zip file. Status code:\", response.status_code)\n"
   ]
  },
  {
   "cell_type": "markdown",
   "id": "2f35cb6e-a4a7-495f-97ba-8cb4f88d6623",
   "metadata": {},
   "source": [
    "### Configure Slivka Server URL"
   ]
  },
  {
   "cell_type": "code",
   "execution_count": 2,
   "id": "0643726a-7eb6-4641-a091-20d7828267b9",
   "metadata": {},
   "outputs": [
    {
     "name": "stdout",
     "output_type": "stream",
     "text": [
      "Using Slivka server at: http://slivka-bio:8000/\n"
     ]
    }
   ],
   "source": [
    "# Set the Slivka server URL\n",
    "local_slivka_url = 'http://slivka-bio:8000/'  # For Slivka running in Docker\n",
    "dundee_slivka_url = 'https://www.compbio.dundee.ac.uk/slivka/'\n",
    "\n",
    "# Set to True to use the local Slivka server\n",
    "use_local_slivka = True\n",
    "\n",
    "slivka_server_url = local_slivka_url if use_local_slivka else dundee_slivka_url\n",
    "print(f\"Using Slivka server at: {slivka_server_url}\")\n"
   ]
  },
  {
   "cell_type": "markdown",
   "id": "5de8e575-d3ed-4306-94a4-cbf09285d74b",
   "metadata": {},
   "source": [
    "### Initialize Slivka Client"
   ]
  },
  {
   "cell_type": "code",
   "execution_count": 3,
   "id": "79922011-0e2a-483d-be53-881827036122",
   "metadata": {},
   "outputs": [
    {
     "name": "stdout",
     "output_type": "stream",
     "text": [
      "Connected to Slivka server at: http://slivka-bio:8000/\n"
     ]
    }
   ],
   "source": [
    "from slivka_client import SlivkaClient\n",
    "\n",
    "client = SlivkaClient(slivka_server_url)\n",
    "print(f\"Connected to Slivka server at: {client.url}\")\n"
   ]
  },
  {
   "cell_type": "markdown",
   "id": "d1b46ecf-09ff-45f6-b857-34bacd97ec18",
   "metadata": {},
   "source": [
    "### Query Available Services"
   ]
  },
  {
   "cell_type": "code",
   "execution_count": 4,
   "id": "c51d0f14-ca7a-41a7-aab5-68318a8da40b",
   "metadata": {},
   "outputs": [
    {
     "name": "stdout",
     "output_type": "stream",
     "text": [
      "Service name: MAFFT, ID: mafft\n",
      "Service name: ProbCons, ID: probcons\n",
      "Service name: MSAProbs, ID: msaprobs\n",
      "Service name: ClustalO, ID: clustalo\n",
      "Service name: GlobPlot, ID: globplot\n",
      "Service name: MUSCLE, ID: muscle\n",
      "Service name: ClustalW, ID: clustalw\n",
      "Service name: DisEMBL, ID: disembl\n",
      "Service name: JPred, ID: jpred\n",
      "Service name: Jronn, ID: jronn\n",
      "Service name: TCoffee, ID: tcoffee\n",
      "Service name: IUPred, ID: iupred\n",
      "Service name: AACon, ID: aacon\n",
      "Service name: RNAalifold, ID: rnaalifold\n",
      "Service name: Example Service, ID: example\n"
     ]
    }
   ],
   "source": [
    "# List available services\n",
    "for service in client.services:\n",
    "    print(f\"Service name: {service.name}, ID: {service.id}\")\n"
   ]
  },
  {
   "cell_type": "markdown",
   "id": "dc87fbf1-9397-4b60-bbeb-54fa47ef490c",
   "metadata": {},
   "source": [
    "### Select a Service (ClustalO)\n"
   ]
  },
  {
   "cell_type": "code",
   "execution_count": 5,
   "id": "141bb7c3-a4b9-450e-8d40-209c8a88aba0",
   "metadata": {},
   "outputs": [
    {
     "name": "stdout",
     "output_type": "stream",
     "text": [
      "Selected service: ClustalO (ID: clustalo)\n"
     ]
    }
   ],
   "source": [
    "service = client['clustalo']\n",
    "print(f\"Selected service: {service.name} (ID: {service.id})\")\n"
   ]
  },
  {
   "cell_type": "markdown",
   "id": "719dab59",
   "metadata": {},
   "source": [
    "### Submit a Job to Align Sequences with ClustalO\n"
   ]
  },
  {
   "cell_type": "code",
   "execution_count": 6,
   "id": "ef8e8dc4-c106-487e-ae05-8736a140732f",
   "metadata": {},
   "outputs": [
    {
     "name": "stdout",
     "output_type": "stream",
     "text": [
      "Job submitted with ID: ZxjSA5S059PP66p1\n"
     ]
    }
   ],
   "source": [
    "# Define parameters for the job\n",
    "data = {\n",
    "    'iterations': 1,\n",
    "    'max-guidetree-iterations': 1,\n",
    "    'max-hmm-iterations': 1,\n",
    "}\n",
    "\n",
    "# Specify the input file path\n",
    "input_file_path = 'data/fam83b-pandda-chains-for-align-test.fa'\n",
    "\n",
    "# Submit the job with the input file\n",
    "with open(input_file_path, 'rb') as file_object:\n",
    "    files = {'input': file_object}\n",
    "    job = service.submit_job(data=data, files=files)\n",
    "    print(f\"Job submitted with ID: {job.id}\")\n"
   ]
  },
  {
   "cell_type": "markdown",
   "id": "145278ca-9af1-46a7-9a27-81c9c34150bb",
   "metadata": {},
   "source": [
    "### Monitor Job Status\n"
   ]
  },
  {
   "cell_type": "code",
   "execution_count": 7,
   "id": "e1065be7-bcb7-4341-a999-443eadd898ad",
   "metadata": {},
   "outputs": [
    {
     "name": "stdout",
     "output_type": "stream",
     "text": [
      "Job status: PENDING\n",
      "Job status: PENDING\n",
      "Job completed with status: COMPLETED\n"
     ]
    }
   ],
   "source": [
    "import time\n",
    "\n",
    "# Poll the job status until it is completed\n",
    "while job.status not in ('COMPLETED', 'FAILED'):\n",
    "    print(f\"Job status: {job.status}\")\n",
    "    time.sleep(3)\n",
    "\n",
    "print(f\"Job completed with status: {job.status}\")\n"
   ]
  },
  {
   "cell_type": "markdown",
   "id": "29687003-011d-42c9-ad37-412290e0f2b8",
   "metadata": {},
   "source": [
    "### Retrieve Job Results\n"
   ]
  },
  {
   "cell_type": "code",
   "execution_count": 8,
   "id": "64c1cd23-f035-4426-b40e-4b4138d2305b",
   "metadata": {},
   "outputs": [
    {
     "name": "stdout",
     "output_type": "stream",
     "text": [
      "File ZxjSA5S059PP66p1/output.txt downloaded to ./downloads/ZxjSA5S059PP66p1/output.txt\n",
      "File ZxjSA5S059PP66p1/stat.log downloaded to ./downloads/ZxjSA5S059PP66p1/stat.log\n",
      "File ZxjSA5S059PP66p1/stderr downloaded to ./downloads/ZxjSA5S059PP66p1/stderr\n"
     ]
    }
   ],
   "source": [
    "import os\n",
    "\n",
    "# Download each file in the job results\n",
    "for file in job.files:\n",
    "    download_path = f\"./downloads/{file.id}\"\n",
    "    os.makedirs(os.path.dirname(download_path), exist_ok=True)\n",
    "    file.dump(download_path)\n",
    "    print(f\"File {file.id} downloaded to {download_path}\")"
   ]
  }
 ],
 "metadata": {
  "kernelspec": {
   "display_name": "Python 3 (ipykernel)",
   "language": "python",
   "name": "python3"
  },
  "language_info": {
   "codemirror_mode": {
    "name": "ipython",
    "version": 3
   },
   "file_extension": ".py",
   "mimetype": "text/x-python",
   "name": "python",
   "nbconvert_exporter": "python",
   "pygments_lexer": "ipython3",
   "version": "3.11.6"
  }
 },
 "nbformat": 4,
 "nbformat_minor": 5
}
